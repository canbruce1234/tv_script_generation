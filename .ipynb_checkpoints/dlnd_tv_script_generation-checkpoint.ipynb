{
 "cells": [
  {
   "cell_type": "markdown",
   "metadata": {
    "deletable": true,
    "editable": true
   },
   "source": [
    "# TV Script Generation\n",
    "In this project, you'll generate your own [Simpsons](https://en.wikipedia.org/wiki/The_Simpsons) TV scripts using RNNs.  You'll be using part of the [Simpsons dataset](https://www.kaggle.com/wcukierski/the-simpsons-by-the-data) of scripts from 27 seasons.  The Neural Network you'll build will generate a new TV script for a scene at [Moe's Tavern](https://simpsonswiki.com/wiki/Moe's_Tavern).\n",
    "## Get the Data\n",
    "The data is already provided for you.  You'll be using a subset of the original dataset.  It consists of only the scenes in Moe's Tavern.  This doesn't include other versions of the tavern, like \"Moe's Cavern\", \"Flaming Moe's\", \"Uncle Moe's Family Feed-Bag\", etc.."
   ]
  },
  {
   "cell_type": "code",
   "execution_count": 57,
   "metadata": {
    "collapsed": false,
    "deletable": true,
    "editable": true
   },
   "outputs": [],
   "source": [
    "\"\"\"\n",
    "DON'T MODIFY ANYTHING IN THIS CELL\n",
    "\"\"\"\n",
    "import helper\n",
    "\n",
    "data_dir = './data/simpsons/moes_tavern_lines.txt'\n",
    "text = helper.load_data(data_dir)\n",
    "# Ignore notice, since we don't use it for analysing the data\n",
    "text = text[81:]"
   ]
  },
  {
   "cell_type": "markdown",
   "metadata": {
    "deletable": true,
    "editable": true
   },
   "source": [
    "## Explore the Data\n",
    "Play around with `view_sentence_range` to view different parts of the data."
   ]
  },
  {
   "cell_type": "code",
   "execution_count": 58,
   "metadata": {
    "collapsed": false,
    "deletable": true,
    "editable": true
   },
   "outputs": [
    {
     "name": "stdout",
     "output_type": "stream",
     "text": [
      "Dataset Stats\n",
      "Roughly the number of unique words: 11492\n",
      "Number of scenes: 262\n",
      "Average number of sentences in each scene: 15.248091603053435\n",
      "Number of lines: 4257\n",
      "Average number of words in each line: 11.50434578341555\n",
      "\n",
      "The sentences 0 to 10:\n",
      "Moe_Szyslak: (INTO PHONE) Moe's Tavern. Where the elite meet to drink.\n",
      "Bart_Simpson: Eh, yeah, hello, is Mike there? Last name, Rotch.\n",
      "Moe_Szyslak: (INTO PHONE) Hold on, I'll check. (TO BARFLIES) Mike Rotch. Mike Rotch. Hey, has anybody seen Mike Rotch, lately?\n",
      "Moe_Szyslak: (INTO PHONE) Listen you little puke. One of these days I'm gonna catch you, and I'm gonna carve my name on your back with an ice pick.\n",
      "Moe_Szyslak: What's the matter Homer? You're not your normal effervescent self.\n",
      "Homer_Simpson: I got my problems, Moe. Give me another one.\n",
      "Moe_Szyslak: Homer, hey, you should not drink to forget your problems.\n",
      "Barney_Gumble: Yeah, you should only drink to enhance your social skills.\n",
      "\n",
      "\n"
     ]
    }
   ],
   "source": [
    "view_sentence_range = (0, 10)\n",
    "\n",
    "\"\"\"\n",
    "DON'T MODIFY ANYTHING IN THIS CELL\n",
    "\"\"\"\n",
    "import numpy as np\n",
    "\n",
    "print('Dataset Stats')\n",
    "print('Roughly the number of unique words: {}'.format(len({word: None for word in text.split()})))\n",
    "scenes = text.split('\\n\\n')\n",
    "print('Number of scenes: {}'.format(len(scenes)))\n",
    "sentence_count_scene = [scene.count('\\n') for scene in scenes]\n",
    "print('Average number of sentences in each scene: {}'.format(np.average(sentence_count_scene)))\n",
    "\n",
    "sentences = [sentence for scene in scenes for sentence in scene.split('\\n')]\n",
    "print('Number of lines: {}'.format(len(sentences)))\n",
    "word_count_sentence = [len(sentence.split()) for sentence in sentences]\n",
    "print('Average number of words in each line: {}'.format(np.average(word_count_sentence)))\n",
    "\n",
    "print()\n",
    "print('The sentences {} to {}:'.format(*view_sentence_range))\n",
    "print('\\n'.join(text.split('\\n')[view_sentence_range[0]:view_sentence_range[1]]))"
   ]
  },
  {
   "cell_type": "markdown",
   "metadata": {
    "deletable": true,
    "editable": true
   },
   "source": [
    "## Implement Preprocessing Functions\n",
    "The first thing to do to any dataset is preprocessing.  Implement the following preprocessing functions below:\n",
    "- Lookup Table\n",
    "- Tokenize Punctuation\n",
    "\n",
    "### Lookup Table\n",
    "To create a word embedding, you first need to transform the words to ids.  In this function, create two dictionaries:\n",
    "- Dictionary to go from the words to an id, we'll call `vocab_to_int`\n",
    "- Dictionary to go from the id to word, we'll call `int_to_vocab`\n",
    "\n",
    "Return these dictionaries in the following tuple `(vocab_to_int, int_to_vocab)`"
   ]
  },
  {
   "cell_type": "code",
   "execution_count": 79,
   "metadata": {
    "collapsed": false,
    "deletable": true,
    "editable": true
   },
   "outputs": [
    {
     "name": "stdout",
     "output_type": "stream",
     "text": [
      "Tests Passed\n"
     ]
    }
   ],
   "source": [
    "import numpy as np\n",
    "import problem_unittests as tests\n",
    "from collections import Counter\n",
    "\n",
    "def create_lookup_tables(text):\n",
    "    \"\"\"\n",
    "    Create lookup tables for vocabulary\n",
    "    :param text: The text of tv scripts split into words\n",
    "    :return: A tuple of dicts (vocab_to_int, int_to_vocab)\n",
    "    \"\"\"\n",
    "    # TODO: Implement Function\n",
    "    punctuation = ['.', ',', '\"', ';', '!', '?', '(', ')', '\\n','-']\n",
    "    for i in range(len(text)):\n",
    "        word = text[i]\n",
    "        word = word.lower()\n",
    "        text[i] = ''.join([c for c in word if c not in punctuation  ])\n",
    "    word_counts = Counter(text)\n",
    "    sorted_vocab = sorted(word_counts, key=word_counts.get, reverse=True)\n",
    "    int_to_vocab = {i: word for i, word in enumerate(sorted_vocab)}\n",
    "    vocab_to_int = {word: ii for ii, word in int_to_vocab.items()}\n",
    "    \n",
    "    return (vocab_to_int, int_to_vocab)\n",
    "\n",
    "\"\"\"\n",
    "DON'T MODIFY ANYTHING IN THIS CELL THAT IS BELOW THIS LINE\n",
    "\"\"\"\n",
    "tests.test_create_lookup_tables(create_lookup_tables)"
   ]
  },
  {
   "cell_type": "markdown",
   "metadata": {
    "deletable": true,
    "editable": true
   },
   "source": [
    "### Tokenize Punctuation\n",
    "We'll be splitting the script into a word array using spaces as delimiters.  However, punctuations like periods and exclamation marks make it hard for the neural network to distinguish between the word \"bye\" and \"bye!\".\n",
    "\n",
    "Implement the function `token_lookup` to return a dict that will be used to tokenize symbols like \"!\" into \"||Exclamation_Mark||\".  Create a dictionary for the following symbols where the symbol is the key and value is the token:\n",
    "- Period ( . )\n",
    "- Comma ( , )\n",
    "- Quotation Mark ( \" )\n",
    "- Semicolon ( ; )\n",
    "- Exclamation mark ( ! )\n",
    "- Question mark ( ? )\n",
    "- Left Parentheses ( ( )\n",
    "- Right Parentheses ( ) )\n",
    "- Dash ( -- )\n",
    "- Return ( \\n )\n",
    "\n",
    "This dictionary will be used to token the symbols and add the delimiter (space) around it.  This separates the symbols as it's own word, making it easier for the neural network to predict on the next word. Make sure you don't use a token that could be confused as a word. Instead of using the token \"dash\", try using something like \"||dash||\"."
   ]
  },
  {
   "cell_type": "code",
   "execution_count": 80,
   "metadata": {
    "collapsed": false,
    "deletable": true,
    "editable": true
   },
   "outputs": [
    {
     "name": "stdout",
     "output_type": "stream",
     "text": [
      "Tests Passed\n"
     ]
    }
   ],
   "source": [
    "def token_lookup():\n",
    "    \"\"\"\n",
    "    Generate a dict to turn punctuation into a token.\n",
    "    :return: Tokenize dictionary where the key is the punctuation and the value is the token\n",
    "    \"\"\"\n",
    "    # TODO: Implement Function\n",
    "    punct_dict = {  '.': '||PERIOD||',\n",
    "                    ',': '||COMMA||',\n",
    "                    '\"': '||QUOTATION_MARK||',\n",
    "                    ';': '||SEMICOLON||',\n",
    "                    '!': '||EXCLAMATION_MARK||',\n",
    "                    '?': '||QUESTION_MARK||',\n",
    "                    '(': '||LEFT_PAREN||',\n",
    "                    ')': '||RIGHT_PAREN||',\n",
    "                    '--': '||DASH||',\n",
    "                    '?': '||QUESTION_MARK||',\n",
    "                    '\\n': '||NEW_LINE||',\n",
    "                 }\n",
    "    \n",
    "    return punct_dict \n",
    "\n",
    "\"\"\"\n",
    "DON'T MODIFY ANYTHING IN THIS CELL THAT IS BELOW THIS LINE\n",
    "\"\"\"\n",
    "tests.test_tokenize(token_lookup)"
   ]
  },
  {
   "cell_type": "markdown",
   "metadata": {
    "deletable": true,
    "editable": true
   },
   "source": [
    "## Preprocess all the data and save it\n",
    "Running the code cell below will preprocess all the data and save it to file."
   ]
  },
  {
   "cell_type": "code",
   "execution_count": 81,
   "metadata": {
    "collapsed": false,
    "deletable": true,
    "editable": true
   },
   "outputs": [],
   "source": [
    "\"\"\"\n",
    "DON'T MODIFY ANYTHING IN THIS CELL\n",
    "\"\"\"\n",
    "# Preprocess Training, Validation, and Testing Data\n",
    "helper.preprocess_and_save_data(data_dir, token_lookup, create_lookup_tables)"
   ]
  },
  {
   "cell_type": "markdown",
   "metadata": {
    "deletable": true,
    "editable": true
   },
   "source": [
    "# Check Point\n",
    "This is your first checkpoint. If you ever decide to come back to this notebook or have to restart the notebook, you can start from here. The preprocessed data has been saved to disk."
   ]
  },
  {
   "cell_type": "code",
   "execution_count": 82,
   "metadata": {
    "collapsed": false,
    "deletable": true,
    "editable": true
   },
   "outputs": [],
   "source": [
    "\"\"\"\n",
    "DON'T MODIFY ANYTHING IN THIS CELL\n",
    "\"\"\"\n",
    "import helper\n",
    "import numpy as np\n",
    "import problem_unittests as tests\n",
    "\n",
    "int_text, vocab_to_int, int_to_vocab, token_dict = helper.load_preprocess()"
   ]
  },
  {
   "cell_type": "markdown",
   "metadata": {
    "deletable": true,
    "editable": true
   },
   "source": [
    "## Build the Neural Network\n",
    "You'll build the components necessary to build a RNN by implementing the following functions below:\n",
    "- get_inputs\n",
    "- get_init_cell\n",
    "- get_embed\n",
    "- build_rnn\n",
    "- build_nn\n",
    "- get_batches\n",
    "\n",
    "### Check the Version of TensorFlow and Access to GPU"
   ]
  },
  {
   "cell_type": "code",
   "execution_count": 83,
   "metadata": {
    "collapsed": false,
    "deletable": true,
    "editable": true
   },
   "outputs": [
    {
     "name": "stdout",
     "output_type": "stream",
     "text": [
      "TensorFlow Version: 1.0.0\n",
      "Default GPU Device: /gpu:0\n"
     ]
    }
   ],
   "source": [
    "\"\"\"\n",
    "DON'T MODIFY ANYTHING IN THIS CELL\n",
    "\"\"\"\n",
    "from distutils.version import LooseVersion\n",
    "import warnings\n",
    "import tensorflow as tf\n",
    "\n",
    "# Check TensorFlow Version\n",
    "assert LooseVersion(tf.__version__) >= LooseVersion('1.0'), 'Please use TensorFlow version 1.0 or newer'\n",
    "print('TensorFlow Version: {}'.format(tf.__version__))\n",
    "\n",
    "# Check for a GPU\n",
    "if not tf.test.gpu_device_name():\n",
    "    warnings.warn('No GPU found. Please use a GPU to train your neural network.')\n",
    "else:\n",
    "    print('Default GPU Device: {}'.format(tf.test.gpu_device_name()))"
   ]
  },
  {
   "cell_type": "markdown",
   "metadata": {
    "deletable": true,
    "editable": true
   },
   "source": [
    "### Input\n",
    "Implement the `get_inputs()` function to create TF Placeholders for the Neural Network.  It should create the following placeholders:\n",
    "- Input text placeholder named \"input\" using the [TF Placeholder](https://www.tensorflow.org/api_docs/python/tf/placeholder) `name` parameter.\n",
    "- Targets placeholder\n",
    "- Learning Rate placeholder\n",
    "\n",
    "Return the placeholders in the following the tuple `(Input, Targets, LearingRate)`"
   ]
  },
  {
   "cell_type": "code",
   "execution_count": 84,
   "metadata": {
    "collapsed": false,
    "deletable": true,
    "editable": true
   },
   "outputs": [
    {
     "name": "stdout",
     "output_type": "stream",
     "text": [
      "Tests Passed\n"
     ]
    }
   ],
   "source": [
    "def get_inputs():\n",
    "    \"\"\"\n",
    "    Create TF Placeholders for input, targets, and learning rate.\n",
    "    :return: Tuple (input, targets, learning rate)\n",
    "    \"\"\"\n",
    "    # TODO: Implement Function\n",
    "    inputs_ = tf.placeholder(tf.int32, [None, None], name='input')\n",
    "    targets_ = tf.placeholder(tf.int32, [None, None], name='target')\n",
    "    learning_rate = tf.placeholder(tf.float32, name='learning_rate')\n",
    "    return (inputs_, targets_, learning_rate)\n",
    "\n",
    "\n",
    "\"\"\"\n",
    "DON'T MODIFY ANYTHING IN THIS CELL THAT IS BELOW THIS LINE\n",
    "\"\"\"\n",
    "tests.test_get_inputs(get_inputs)"
   ]
  },
  {
   "cell_type": "markdown",
   "metadata": {
    "deletable": true,
    "editable": true
   },
   "source": [
    "### Build RNN Cell and Initialize\n",
    "Stack one or more [`BasicLSTMCells`](https://www.tensorflow.org/api_docs/python/tf/contrib/rnn/BasicLSTMCell) in a [`MultiRNNCell`](https://www.tensorflow.org/api_docs/python/tf/contrib/rnn/MultiRNNCell).\n",
    "- The Rnn size should be set using `rnn_size`\n",
    "- Initalize Cell State using the MultiRNNCell's [`zero_state()`](https://www.tensorflow.org/api_docs/python/tf/contrib/rnn/MultiRNNCell#zero_state) function\n",
    "    - Apply the name \"initial_state\" to the initial state using [`tf.identity()`](https://www.tensorflow.org/api_docs/python/tf/identity)\n",
    "\n",
    "Return the cell and initial state in the following tuple `(Cell, InitialState)`"
   ]
  },
  {
   "cell_type": "code",
   "execution_count": 85,
   "metadata": {
    "collapsed": false,
    "deletable": true,
    "editable": true
   },
   "outputs": [
    {
     "name": "stdout",
     "output_type": "stream",
     "text": [
      "Tests Passed\n"
     ]
    }
   ],
   "source": [
    "def get_init_cell(batch_size, rnn_size):\n",
    "    \"\"\"\n",
    "    Create an RNN Cell and initialize it.\n",
    "    :param batch_size: Size of batches\n",
    "    :param rnn_size: Size of RNNs\n",
    "    :return: Tuple (cell, initialize state)\n",
    "    \"\"\"\n",
    "    # TODO: Implement Function\n",
    "    lstm_layers = 2\n",
    "    LSTM = tf.contrib.rnn.BasicLSTMCell(rnn_size)\n",
    "    Cell = tf.contrib.rnn.MultiRNNCell([LSTM] * lstm_layers)\n",
    "    InitialState = tf.identity(Cell.zero_state(batch_size, tf.float32), name='initial_state')\n",
    "\n",
    "    return (Cell, InitialState)\n",
    "\n",
    "\n",
    "\"\"\"\n",
    "DON'T MODIFY ANYTHING IN THIS CELL THAT IS BELOW THIS LINE\n",
    "\"\"\"\n",
    "tests.test_get_init_cell(get_init_cell)"
   ]
  },
  {
   "cell_type": "markdown",
   "metadata": {
    "deletable": true,
    "editable": true
   },
   "source": [
    "### Word Embedding\n",
    "Apply embedding to `input_data` using TensorFlow.  Return the embedded sequence."
   ]
  },
  {
   "cell_type": "code",
   "execution_count": 86,
   "metadata": {
    "collapsed": false,
    "deletable": true,
    "editable": true
   },
   "outputs": [
    {
     "name": "stdout",
     "output_type": "stream",
     "text": [
      "Tests Passed\n"
     ]
    }
   ],
   "source": [
    "def get_embed(input_data, vocab_size, embed_dim):\n",
    "    \"\"\"\n",
    "    Create embedding for <input_data>.\n",
    "    :param input_data: TF placeholder for text input.\n",
    "    :param vocab_size: Number of words in vocabulary.\n",
    "    :param embed_dim: Number of embedding dimensions\n",
    "    :return: Embedded input.\n",
    "    \"\"\"\n",
    "    # TODO: Implement Function\n",
    "    n_embedding = embed_dim # Number of embedding features\n",
    "    input_data_ = tf.placeholder(tf.int32, shape=[None], name='input_data')\n",
    "    input_data_ = input_data\n",
    "    train_graph = tf.Graph()\n",
    "    embedding = tf.Variable(tf.random_uniform((vocab_size, n_embedding), -1, 1))\n",
    "    embed = tf.nn.embedding_lookup(embedding, input_data_)\n",
    "    return embed\n",
    "\n",
    "\n",
    "\"\"\"\n",
    "DON'T MODIFY ANYTHING IN THIS CELL THAT IS BELOW THIS LINE\n",
    "\"\"\"\n",
    "tests.test_get_embed(get_embed)"
   ]
  },
  {
   "cell_type": "markdown",
   "metadata": {
    "deletable": true,
    "editable": true
   },
   "source": [
    "### Build RNN\n",
    "You created a RNN Cell in the `get_init_cell()` function.  Time to use the cell to create a RNN.\n",
    "- Build the RNN using the [`tf.nn.dynamic_rnn()`](https://www.tensorflow.org/api_docs/python/tf/nn/dynamic_rnn)\n",
    " - Apply the name \"final_state\" to the final state using [`tf.identity()`](https://www.tensorflow.org/api_docs/python/tf/identity)\n",
    "\n",
    "Return the outputs and final_state state in the following tuple `(Outputs, FinalState)` "
   ]
  },
  {
   "cell_type": "code",
   "execution_count": 87,
   "metadata": {
    "collapsed": false,
    "deletable": true,
    "editable": true
   },
   "outputs": [
    {
     "name": "stdout",
     "output_type": "stream",
     "text": [
      "Tests Passed\n"
     ]
    }
   ],
   "source": [
    "def build_rnn(cell, inputs):\n",
    "    \"\"\"\n",
    "    Create a RNN using a RNN Cell\n",
    "    :param cell: RNN Cell\n",
    "    :param inputs: Input text data\n",
    "    :return: Tuple (Outputs, Final State)\n",
    "    \"\"\"\n",
    "    # TODO: Implement Function\n",
    "    outputs, final_state = tf.nn.dynamic_rnn(cell, inputs, dtype=tf.float32) \n",
    "    final_state = tf.identity(final_state, 'final_state')\n",
    "    return (outputs, final_state)\n",
    "\n",
    "\n",
    "\"\"\"\n",
    "DON'T MODIFY ANYTHING IN THIS CELL THAT IS BELOW THIS LINE\n",
    "\"\"\"\n",
    "tests.test_build_rnn(build_rnn)"
   ]
  },
  {
   "cell_type": "markdown",
   "metadata": {
    "deletable": true,
    "editable": true
   },
   "source": [
    "### Build the Neural Network\n",
    "Apply the functions you implemented above to:\n",
    "- Apply embedding to `input_data` using your `get_embed(input_data, vocab_size, embed_dim)` function.\n",
    "- Build RNN using `cell` and your `build_rnn(cell, inputs)` function.\n",
    "- Apply a fully connected layer with a linear activation and `vocab_size` as the number of outputs.\n",
    "\n",
    "Return the logits and final state in the following tuple (Logits, FinalState) "
   ]
  },
  {
   "cell_type": "code",
   "execution_count": 119,
   "metadata": {
    "collapsed": false,
    "deletable": true,
    "editable": true
   },
   "outputs": [
    {
     "name": "stdout",
     "output_type": "stream",
     "text": [
      "Tests Passed\n"
     ]
    }
   ],
   "source": [
    "def build_nn(cell, rnn_size, input_data, vocab_size, embed_dim=1024):\n",
    "    \"\"\"\n",
    "    Build part of the neural network\n",
    "    :param cell: RNN cell\n",
    "    :param rnn_size: Size of rnns\n",
    "    :param input_data: Input data\n",
    "    :param vocab_size: Vocabulary size\n",
    "    :return: Tuple (Logits, FinalState)\n",
    "    \"\"\"\n",
    "    # TODO: Implement Function\n",
    "    rnn_input = get_embed(input_data, vocab_size, embed_dim)\n",
    "    rnn, FinalState = build_rnn(cell, rnn_input)\n",
    "    Logits = tf.contrib.layers.fully_connected(\n",
    "        rnn,\n",
    "        vocab_size,\n",
    "        weights_initializer = tf.truncated_normal_initializer(stddev = 0.1),\n",
    "        biases_initializer = tf.zeros_initializer(),\n",
    "        activation_fn = None,\n",
    "        )\n",
    "    return (Logits, FinalState)\n",
    "\n",
    "\n",
    "\"\"\"\n",
    "DON'T MODIFY ANYTHING IN THIS CELL THAT IS BELOW THIS LINE\n",
    "\"\"\"\n",
    "tests.test_build_nn(build_nn)"
   ]
  },
  {
   "cell_type": "markdown",
   "metadata": {
    "deletable": true,
    "editable": true
   },
   "source": [
    "### Batches\n",
    "Implement `get_batches` to create batches of input and targets using `int_text`.  The batches should be a Numpy array with the shape `(number of batches, 2, batch size, sequence length)`. Each batch contains two elements:\n",
    "- The first element is a single batch of **input** with the shape `[batch size, sequence length]`\n",
    "- The second element is a single batch of **targets** with the shape `[batch size, sequence length]`\n",
    "\n",
    "If you can't fill the last batch with enough data, drop the last batch.\n",
    "\n",
    "For exmple, `get_batches([1, 2, 3, 4, 5, 6, 7, 8, 9, 10, 11, 12, 13, 14, 15], 2, 3)` would return a Numpy array of the following:\n",
    "```\n",
    "[\n",
    "  # First Batch\n",
    "  [\n",
    "    # Batch of Input\n",
    "    [[ 1  2  3], [ 7  8  9]],\n",
    "    # Batch of targets\n",
    "    [[ 2  3  4], [ 8  9 10]]\n",
    "  ],\n",
    " \n",
    "  # Second Batch\n",
    "  [\n",
    "    # Batch of Input\n",
    "    [[ 4  5  6], [10 11 12]],\n",
    "    # Batch of targets\n",
    "    [[ 5  6  7], [11 12 13]]\n",
    "  ]\n",
    "]\n",
    "```"
   ]
  },
  {
   "cell_type": "code",
   "execution_count": 89,
   "metadata": {
    "collapsed": false,
    "deletable": true,
    "editable": true
   },
   "outputs": [
    {
     "name": "stdout",
     "output_type": "stream",
     "text": [
      "Tests Passed\n"
     ]
    }
   ],
   "source": [
    "def get_batches(int_text, batch_size, seq_length):\n",
    "    \"\"\"\n",
    "    Return batches of input and target\n",
    "    :param int_text: Text with the words replaced by their ids\n",
    "    :param batch_size: The size of batch\n",
    "    :param seq_length: The length of sequence\n",
    "    :return: Batches as a Numpy array\n",
    "    \"\"\"\n",
    "    # TODO: Implement Function\n",
    "    n_batches = int(len(int_text) / (batch_size * seq_length))\n",
    "\n",
    "    # Drop the last few characters to make only full batches\n",
    "    xdata = np.array(int_text[: n_batches * batch_size * seq_length])\n",
    "    ydata = np.array(int_text[1: n_batches * batch_size * seq_length + 1])\n",
    "\n",
    "    x_batches = np.split(xdata.reshape(batch_size, -1), n_batches, 1)\n",
    "    y_batches = np.split(ydata.reshape(batch_size, -1), n_batches, 1)\n",
    "    out = list(zip(x_batches, y_batches))\n",
    "    return np.array(out)\n",
    "\n",
    "\n",
    "\"\"\"\n",
    "DON'T MODIFY ANYTHING IN THIS CELL THAT IS BELOW THIS LINE\n",
    "\"\"\"\n",
    "tests.test_get_batches(get_batches)"
   ]
  },
  {
   "cell_type": "markdown",
   "metadata": {
    "deletable": true,
    "editable": true
   },
   "source": [
    "## Neural Network Training\n",
    "### Hyperparameters\n",
    "Tune the following parameters:\n",
    "\n",
    "- Set `num_epochs` to the number of epochs.\n",
    "- Set `batch_size` to the batch size.\n",
    "- Set `rnn_size` to the size of the RNNs.\n",
    "- Set `seq_length` to the length of sequence.\n",
    "- Set `learning_rate` to the learning rate.\n",
    "- Set `show_every_n_batches` to the number of batches the neural network should print progress."
   ]
  },
  {
   "cell_type": "code",
   "execution_count": 110,
   "metadata": {
    "collapsed": true,
    "deletable": true,
    "editable": true
   },
   "outputs": [],
   "source": [
    "# Number of Epochs\n",
    "num_epochs = 100\n",
    "# Batch Size\n",
    "batch_size = 48\n",
    "# RNN Size\n",
    "rnn_size = 512\n",
    "# Sequence Length\n",
    "seq_length = 24\n",
    "# Learning Rate\n",
    "learning_rate = 0.001\n",
    "# Show stats for every n number of batches\n",
    "show_every_n_batches = 10\n",
    "\n",
    "\"\"\"\n",
    "DON'T MODIFY ANYTHING IN THIS CELL THAT IS BELOW THIS LINE\n",
    "\"\"\"\n",
    "save_dir = './save'"
   ]
  },
  {
   "cell_type": "markdown",
   "metadata": {
    "deletable": true,
    "editable": true
   },
   "source": [
    "### Build the Graph\n",
    "Build the graph using the neural network you implemented."
   ]
  },
  {
   "cell_type": "code",
   "execution_count": 111,
   "metadata": {
    "collapsed": false,
    "deletable": true,
    "editable": true
   },
   "outputs": [],
   "source": [
    "\"\"\"\n",
    "DON'T MODIFY ANYTHING IN THIS CELL\n",
    "\"\"\"\n",
    "from tensorflow.contrib import seq2seq\n",
    "\n",
    "train_graph = tf.Graph()\n",
    "with train_graph.as_default():\n",
    "    vocab_size = len(int_to_vocab)\n",
    "    input_text, targets, lr = get_inputs()\n",
    "    input_data_shape = tf.shape(input_text)\n",
    "    cell, initial_state = get_init_cell(input_data_shape[0], rnn_size)\n",
    "    logits, final_state = build_nn(cell, rnn_size, input_text, vocab_size)\n",
    "\n",
    "    # Probabilities for generating words\n",
    "    probs = tf.nn.softmax(logits, name='probs')\n",
    "\n",
    "    # Loss function\n",
    "    cost = seq2seq.sequence_loss(\n",
    "        logits,\n",
    "        targets,\n",
    "        tf.ones([input_data_shape[0], input_data_shape[1]]))\n",
    "\n",
    "    # Optimizer\n",
    "    optimizer = tf.train.AdamOptimizer(lr)\n",
    "\n",
    "    # Gradient Clipping\n",
    "    gradients = optimizer.compute_gradients(cost)\n",
    "    capped_gradients = [(tf.clip_by_value(grad, -1., 1.), var) for grad, var in gradients]\n",
    "    train_op = optimizer.apply_gradients(capped_gradients)"
   ]
  },
  {
   "cell_type": "markdown",
   "metadata": {
    "deletable": true,
    "editable": true
   },
   "source": [
    "## Train\n",
    "Train the neural network on the preprocessed data.  If you have a hard time getting a good loss, check the [forms](https://discussions.udacity.com/) to see if anyone is having the same problem."
   ]
  },
  {
   "cell_type": "code",
   "execution_count": 112,
   "metadata": {
    "collapsed": false,
    "deletable": true,
    "editable": true
   },
   "outputs": [
    {
     "name": "stdout",
     "output_type": "stream",
     "text": [
      "Epoch   0 Batch    0/59   train_loss = 8.834\n",
      "Epoch   0 Batch   10/59   train_loss = 6.443\n",
      "Epoch   0 Batch   20/59   train_loss = 6.073\n",
      "Epoch   0 Batch   30/59   train_loss = 5.619\n",
      "Epoch   0 Batch   40/59   train_loss = 5.649\n",
      "Epoch   0 Batch   50/59   train_loss = 5.535\n",
      "Epoch   1 Batch    1/59   train_loss = 5.318\n",
      "Epoch   1 Batch   11/59   train_loss = 5.266\n",
      "Epoch   1 Batch   21/59   train_loss = 5.238\n",
      "Epoch   1 Batch   31/59   train_loss = 5.048\n",
      "Epoch   1 Batch   41/59   train_loss = 5.002\n",
      "Epoch   1 Batch   51/59   train_loss = 4.943\n",
      "Epoch   2 Batch    2/59   train_loss = 4.717\n",
      "Epoch   2 Batch   12/59   train_loss = 4.734\n",
      "Epoch   2 Batch   22/59   train_loss = 4.737\n",
      "Epoch   2 Batch   32/59   train_loss = 4.726\n",
      "Epoch   2 Batch   42/59   train_loss = 4.540\n",
      "Epoch   2 Batch   52/59   train_loss = 4.481\n",
      "Epoch   3 Batch    3/59   train_loss = 4.559\n",
      "Epoch   3 Batch   13/59   train_loss = 4.490\n",
      "Epoch   3 Batch   23/59   train_loss = 4.435\n",
      "Epoch   3 Batch   33/59   train_loss = 4.301\n",
      "Epoch   3 Batch   43/59   train_loss = 4.464\n",
      "Epoch   3 Batch   53/59   train_loss = 4.279\n",
      "Epoch   4 Batch    4/59   train_loss = 4.034\n",
      "Epoch   4 Batch   14/59   train_loss = 4.130\n",
      "Epoch   4 Batch   24/59   train_loss = 4.023\n",
      "Epoch   4 Batch   34/59   train_loss = 4.039\n",
      "Epoch   4 Batch   44/59   train_loss = 3.989\n",
      "Epoch   4 Batch   54/59   train_loss = 4.025\n",
      "Epoch   5 Batch    5/59   train_loss = 3.831\n",
      "Epoch   5 Batch   15/59   train_loss = 3.931\n",
      "Epoch   5 Batch   25/59   train_loss = 3.931\n",
      "Epoch   5 Batch   35/59   train_loss = 3.816\n",
      "Epoch   5 Batch   45/59   train_loss = 3.776\n",
      "Epoch   5 Batch   55/59   train_loss = 3.719\n",
      "Epoch   6 Batch    6/59   train_loss = 3.623\n",
      "Epoch   6 Batch   16/59   train_loss = 3.496\n",
      "Epoch   6 Batch   26/59   train_loss = 3.503\n",
      "Epoch   6 Batch   36/59   train_loss = 3.374\n",
      "Epoch   6 Batch   46/59   train_loss = 3.346\n",
      "Epoch   6 Batch   56/59   train_loss = 3.432\n",
      "Epoch   7 Batch    7/59   train_loss = 3.290\n",
      "Epoch   7 Batch   17/59   train_loss = 3.222\n",
      "Epoch   7 Batch   27/59   train_loss = 3.226\n",
      "Epoch   7 Batch   37/59   train_loss = 3.187\n",
      "Epoch   7 Batch   47/59   train_loss = 3.155\n",
      "Epoch   7 Batch   57/59   train_loss = 3.012\n",
      "Epoch   8 Batch    8/59   train_loss = 3.080\n",
      "Epoch   8 Batch   18/59   train_loss = 2.927\n",
      "Epoch   8 Batch   28/59   train_loss = 3.016\n",
      "Epoch   8 Batch   38/59   train_loss = 2.874\n",
      "Epoch   8 Batch   48/59   train_loss = 2.840\n",
      "Epoch   8 Batch   58/59   train_loss = 2.809\n",
      "Epoch   9 Batch    9/59   train_loss = 2.761\n",
      "Epoch   9 Batch   19/59   train_loss = 2.607\n",
      "Epoch   9 Batch   29/59   train_loss = 2.617\n",
      "Epoch   9 Batch   39/59   train_loss = 2.600\n",
      "Epoch   9 Batch   49/59   train_loss = 2.581\n",
      "Epoch  10 Batch    0/59   train_loss = 2.406\n",
      "Epoch  10 Batch   10/59   train_loss = 2.404\n",
      "Epoch  10 Batch   20/59   train_loss = 2.438\n",
      "Epoch  10 Batch   30/59   train_loss = 2.339\n",
      "Epoch  10 Batch   40/59   train_loss = 2.354\n",
      "Epoch  10 Batch   50/59   train_loss = 2.323\n",
      "Epoch  11 Batch    1/59   train_loss = 2.065\n",
      "Epoch  11 Batch   11/59   train_loss = 2.146\n",
      "Epoch  11 Batch   21/59   train_loss = 2.006\n",
      "Epoch  11 Batch   31/59   train_loss = 2.136\n",
      "Epoch  11 Batch   41/59   train_loss = 2.049\n",
      "Epoch  11 Batch   51/59   train_loss = 1.971\n",
      "Epoch  12 Batch    2/59   train_loss = 1.933\n",
      "Epoch  12 Batch   12/59   train_loss = 1.811\n",
      "Epoch  12 Batch   22/59   train_loss = 1.816\n",
      "Epoch  12 Batch   32/59   train_loss = 1.806\n",
      "Epoch  12 Batch   42/59   train_loss = 1.727\n",
      "Epoch  12 Batch   52/59   train_loss = 1.691\n",
      "Epoch  13 Batch    3/59   train_loss = 1.590\n",
      "Epoch  13 Batch   13/59   train_loss = 1.671\n",
      "Epoch  13 Batch   23/59   train_loss = 1.547\n",
      "Epoch  13 Batch   33/59   train_loss = 1.520\n",
      "Epoch  13 Batch   43/59   train_loss = 1.410\n",
      "Epoch  13 Batch   53/59   train_loss = 1.435\n",
      "Epoch  14 Batch    4/59   train_loss = 1.369\n",
      "Epoch  14 Batch   14/59   train_loss = 1.394\n",
      "Epoch  14 Batch   24/59   train_loss = 1.316\n",
      "Epoch  14 Batch   34/59   train_loss = 1.229\n",
      "Epoch  14 Batch   44/59   train_loss = 1.208\n",
      "Epoch  14 Batch   54/59   train_loss = 1.206\n",
      "Epoch  15 Batch    5/59   train_loss = 1.163\n",
      "Epoch  15 Batch   15/59   train_loss = 1.109\n",
      "Epoch  15 Batch   25/59   train_loss = 1.069\n",
      "Epoch  15 Batch   35/59   train_loss = 1.111\n",
      "Epoch  15 Batch   45/59   train_loss = 1.001\n",
      "Epoch  15 Batch   55/59   train_loss = 1.037\n",
      "Epoch  16 Batch    6/59   train_loss = 0.906\n",
      "Epoch  16 Batch   16/59   train_loss = 0.929\n",
      "Epoch  16 Batch   26/59   train_loss = 0.940\n",
      "Epoch  16 Batch   36/59   train_loss = 0.942\n",
      "Epoch  16 Batch   46/59   train_loss = 0.885\n",
      "Epoch  16 Batch   56/59   train_loss = 0.826\n",
      "Epoch  17 Batch    7/59   train_loss = 0.767\n",
      "Epoch  17 Batch   17/59   train_loss = 0.799\n",
      "Epoch  17 Batch   27/59   train_loss = 0.749\n",
      "Epoch  17 Batch   37/59   train_loss = 0.803\n",
      "Epoch  17 Batch   47/59   train_loss = 0.724\n",
      "Epoch  17 Batch   57/59   train_loss = 0.723\n",
      "Epoch  18 Batch    8/59   train_loss = 0.730\n",
      "Epoch  18 Batch   18/59   train_loss = 0.616\n",
      "Epoch  18 Batch   28/59   train_loss = 0.603\n",
      "Epoch  18 Batch   38/59   train_loss = 0.568\n",
      "Epoch  18 Batch   48/59   train_loss = 0.556\n",
      "Epoch  18 Batch   58/59   train_loss = 0.604\n",
      "Epoch  19 Batch    9/59   train_loss = 0.548\n",
      "Epoch  19 Batch   19/59   train_loss = 0.562\n",
      "Epoch  19 Batch   29/59   train_loss = 0.540\n",
      "Epoch  19 Batch   39/59   train_loss = 0.521\n",
      "Epoch  19 Batch   49/59   train_loss = 0.474\n",
      "Epoch  20 Batch    0/59   train_loss = 0.455\n",
      "Epoch  20 Batch   10/59   train_loss = 0.462\n",
      "Epoch  20 Batch   20/59   train_loss = 0.424\n",
      "Epoch  20 Batch   30/59   train_loss = 0.433\n",
      "Epoch  20 Batch   40/59   train_loss = 0.375\n",
      "Epoch  20 Batch   50/59   train_loss = 0.427\n",
      "Epoch  21 Batch    1/59   train_loss = 0.358\n",
      "Epoch  21 Batch   11/59   train_loss = 0.396\n",
      "Epoch  21 Batch   21/59   train_loss = 0.332\n",
      "Epoch  21 Batch   31/59   train_loss = 0.413\n",
      "Epoch  21 Batch   41/59   train_loss = 0.393\n",
      "Epoch  21 Batch   51/59   train_loss = 0.347\n",
      "Epoch  22 Batch    2/59   train_loss = 0.365\n",
      "Epoch  22 Batch   12/59   train_loss = 0.287\n",
      "Epoch  22 Batch   22/59   train_loss = 0.301\n",
      "Epoch  22 Batch   32/59   train_loss = 0.315\n",
      "Epoch  22 Batch   42/59   train_loss = 0.296\n",
      "Epoch  22 Batch   52/59   train_loss = 0.306\n",
      "Epoch  23 Batch    3/59   train_loss = 0.290\n",
      "Epoch  23 Batch   13/59   train_loss = 0.276\n",
      "Epoch  23 Batch   23/59   train_loss = 0.257\n",
      "Epoch  23 Batch   33/59   train_loss = 0.234\n",
      "Epoch  23 Batch   43/59   train_loss = 0.248\n",
      "Epoch  23 Batch   53/59   train_loss = 0.243\n",
      "Epoch  24 Batch    4/59   train_loss = 0.235\n",
      "Epoch  24 Batch   14/59   train_loss = 0.227\n",
      "Epoch  24 Batch   24/59   train_loss = 0.238\n",
      "Epoch  24 Batch   34/59   train_loss = 0.200\n",
      "Epoch  24 Batch   44/59   train_loss = 0.197\n",
      "Epoch  24 Batch   54/59   train_loss = 0.205\n",
      "Epoch  25 Batch    5/59   train_loss = 0.184\n",
      "Epoch  25 Batch   15/59   train_loss = 0.188\n",
      "Epoch  25 Batch   25/59   train_loss = 0.185\n",
      "Epoch  25 Batch   35/59   train_loss = 0.207\n",
      "Epoch  25 Batch   45/59   train_loss = 0.217\n",
      "Epoch  25 Batch   55/59   train_loss = 0.205\n",
      "Epoch  26 Batch    6/59   train_loss = 0.196\n",
      "Epoch  26 Batch   16/59   train_loss = 0.172\n",
      "Epoch  26 Batch   26/59   train_loss = 0.178\n",
      "Epoch  26 Batch   36/59   train_loss = 0.197\n",
      "Epoch  26 Batch   46/59   train_loss = 0.200\n",
      "Epoch  26 Batch   56/59   train_loss = 0.187\n",
      "Epoch  27 Batch    7/59   train_loss = 0.172\n",
      "Epoch  27 Batch   17/59   train_loss = 0.188\n",
      "Epoch  27 Batch   27/59   train_loss = 0.177\n",
      "Epoch  27 Batch   37/59   train_loss = 0.197\n",
      "Epoch  27 Batch   47/59   train_loss = 0.193\n",
      "Epoch  27 Batch   57/59   train_loss = 0.172\n",
      "Epoch  28 Batch    8/59   train_loss = 0.175\n",
      "Epoch  28 Batch   18/59   train_loss = 0.167\n",
      "Epoch  28 Batch   28/59   train_loss = 0.177\n",
      "Epoch  28 Batch   38/59   train_loss = 0.166\n",
      "Epoch  28 Batch   48/59   train_loss = 0.158\n",
      "Epoch  28 Batch   58/59   train_loss = 0.187\n",
      "Epoch  29 Batch    9/59   train_loss = 0.153\n",
      "Epoch  29 Batch   19/59   train_loss = 0.168\n",
      "Epoch  29 Batch   29/59   train_loss = 0.172\n",
      "Epoch  29 Batch   39/59   train_loss = 0.185\n",
      "Epoch  29 Batch   49/59   train_loss = 0.154\n",
      "Epoch  30 Batch    0/59   train_loss = 0.157\n",
      "Epoch  30 Batch   10/59   train_loss = 0.154\n",
      "Epoch  30 Batch   20/59   train_loss = 0.156\n",
      "Epoch  30 Batch   30/59   train_loss = 0.169\n",
      "Epoch  30 Batch   40/59   train_loss = 0.133\n",
      "Epoch  30 Batch   50/59   train_loss = 0.176\n",
      "Epoch  31 Batch    1/59   train_loss = 0.132\n",
      "Epoch  31 Batch   11/59   train_loss = 0.161\n",
      "Epoch  31 Batch   21/59   train_loss = 0.140\n",
      "Epoch  31 Batch   31/59   train_loss = 0.187\n",
      "Epoch  31 Batch   41/59   train_loss = 0.180\n",
      "Epoch  31 Batch   51/59   train_loss = 0.161\n",
      "Epoch  32 Batch    2/59   train_loss = 0.174\n",
      "Epoch  32 Batch   12/59   train_loss = 0.136\n",
      "Epoch  32 Batch   22/59   train_loss = 0.162\n",
      "Epoch  32 Batch   32/59   train_loss = 0.178\n",
      "Epoch  32 Batch   42/59   train_loss = 0.154\n",
      "Epoch  32 Batch   52/59   train_loss = 0.170\n",
      "Epoch  33 Batch    3/59   train_loss = 0.165\n",
      "Epoch  33 Batch   13/59   train_loss = 0.164\n",
      "Epoch  33 Batch   23/59   train_loss = 0.154\n",
      "Epoch  33 Batch   33/59   train_loss = 0.142\n",
      "Epoch  33 Batch   43/59   train_loss = 0.157\n",
      "Epoch  33 Batch   53/59   train_loss = 0.149\n",
      "Epoch  34 Batch    4/59   train_loss = 0.146\n",
      "Epoch  34 Batch   14/59   train_loss = 0.141\n",
      "Epoch  34 Batch   24/59   train_loss = 0.156\n",
      "Epoch  34 Batch   34/59   train_loss = 0.129\n",
      "Epoch  34 Batch   44/59   train_loss = 0.135\n",
      "Epoch  34 Batch   54/59   train_loss = 0.146\n",
      "Epoch  35 Batch    5/59   train_loss = 0.122\n",
      "Epoch  35 Batch   15/59   train_loss = 0.126\n",
      "Epoch  35 Batch   25/59   train_loss = 0.133\n",
      "Epoch  35 Batch   35/59   train_loss = 0.143\n",
      "Epoch  35 Batch   45/59   train_loss = 0.168\n",
      "Epoch  35 Batch   55/59   train_loss = 0.144\n",
      "Epoch  36 Batch    6/59   train_loss = 0.149\n",
      "Epoch  36 Batch   16/59   train_loss = 0.130\n",
      "Epoch  36 Batch   26/59   train_loss = 0.130\n",
      "Epoch  36 Batch   36/59   train_loss = 0.155\n",
      "Epoch  36 Batch   46/59   train_loss = 0.153\n",
      "Epoch  36 Batch   56/59   train_loss = 0.153\n",
      "Epoch  37 Batch    7/59   train_loss = 0.141\n",
      "Epoch  37 Batch   17/59   train_loss = 0.153\n",
      "Epoch  37 Batch   27/59   train_loss = 0.144\n",
      "Epoch  37 Batch   37/59   train_loss = 0.163\n",
      "Epoch  37 Batch   47/59   train_loss = 0.161\n",
      "Epoch  37 Batch   57/59   train_loss = 0.139\n",
      "Epoch  38 Batch    8/59   train_loss = 0.146\n",
      "Epoch  38 Batch   18/59   train_loss = 0.142\n",
      "Epoch  38 Batch   28/59   train_loss = 0.156\n",
      "Epoch  38 Batch   38/59   train_loss = 0.141\n",
      "Epoch  38 Batch   48/59   train_loss = 0.137\n",
      "Epoch  38 Batch   58/59   train_loss = 0.162\n",
      "Epoch  39 Batch    9/59   train_loss = 0.129\n",
      "Epoch  39 Batch   19/59   train_loss = 0.150\n",
      "Epoch  39 Batch   29/59   train_loss = 0.148\n",
      "Epoch  39 Batch   39/59   train_loss = 0.166\n",
      "Epoch  39 Batch   49/59   train_loss = 0.134\n",
      "Epoch  40 Batch    0/59   train_loss = 0.137\n",
      "Epoch  40 Batch   10/59   train_loss = 0.135\n",
      "Epoch  40 Batch   20/59   train_loss = 0.139\n",
      "Epoch  40 Batch   30/59   train_loss = 0.148\n",
      "Epoch  40 Batch   40/59   train_loss = 0.115\n",
      "Epoch  40 Batch   50/59   train_loss = 0.158\n",
      "Epoch  41 Batch    1/59   train_loss = 0.119\n",
      "Epoch  41 Batch   11/59   train_loss = 0.146\n",
      "Epoch  41 Batch   21/59   train_loss = 0.126\n",
      "Epoch  41 Batch   31/59   train_loss = 0.167\n",
      "Epoch  41 Batch   41/59   train_loss = 0.162\n",
      "Epoch  41 Batch   51/59   train_loss = 0.145\n",
      "Epoch  42 Batch    2/59   train_loss = 0.161\n",
      "Epoch  42 Batch   12/59   train_loss = 0.123\n",
      "Epoch  42 Batch   22/59   train_loss = 0.149\n",
      "Epoch  42 Batch   32/59   train_loss = 0.164\n",
      "Epoch  42 Batch   42/59   train_loss = 0.144\n",
      "Epoch  42 Batch   52/59   train_loss = 0.157\n",
      "Epoch  43 Batch    3/59   train_loss = 0.153\n",
      "Epoch  43 Batch   13/59   train_loss = 0.153\n",
      "Epoch  43 Batch   23/59   train_loss = 0.143\n",
      "Epoch  43 Batch   33/59   train_loss = 0.131\n",
      "Epoch  43 Batch   43/59   train_loss = 0.150\n",
      "Epoch  43 Batch   53/59   train_loss = 0.141\n",
      "Epoch  44 Batch    4/59   train_loss = 0.135\n",
      "Epoch  44 Batch   14/59   train_loss = 0.131\n",
      "Epoch  44 Batch   24/59   train_loss = 0.151\n",
      "Epoch  44 Batch   34/59   train_loss = 0.124\n",
      "Epoch  44 Batch   44/59   train_loss = 0.124\n",
      "Epoch  44 Batch   54/59   train_loss = 0.137\n",
      "Epoch  45 Batch    5/59   train_loss = 0.114\n",
      "Epoch  45 Batch   15/59   train_loss = 0.119\n",
      "Epoch  45 Batch   25/59   train_loss = 0.125\n",
      "Epoch  45 Batch   35/59   train_loss = 0.135\n",
      "Epoch  45 Batch   45/59   train_loss = 0.160\n",
      "Epoch  45 Batch   55/59   train_loss = 0.136\n",
      "Epoch  46 Batch    6/59   train_loss = 0.142\n",
      "Epoch  46 Batch   16/59   train_loss = 0.123\n",
      "Epoch  46 Batch   26/59   train_loss = 0.120\n",
      "Epoch  46 Batch   36/59   train_loss = 0.148\n",
      "Epoch  46 Batch   46/59   train_loss = 0.146\n",
      "Epoch  46 Batch   56/59   train_loss = 0.147\n",
      "Epoch  47 Batch    7/59   train_loss = 0.134\n",
      "Epoch  47 Batch   17/59   train_loss = 0.147\n",
      "Epoch  47 Batch   27/59   train_loss = 0.137\n",
      "Epoch  47 Batch   37/59   train_loss = 0.157\n",
      "Epoch  47 Batch   47/59   train_loss = 0.153\n",
      "Epoch  47 Batch   57/59   train_loss = 0.134\n",
      "Epoch  48 Batch    8/59   train_loss = 0.140\n",
      "Epoch  48 Batch   18/59   train_loss = 0.138\n",
      "Epoch  48 Batch   28/59   train_loss = 0.151\n",
      "Epoch  48 Batch   38/59   train_loss = 0.135\n",
      "Epoch  48 Batch   48/59   train_loss = 0.132\n",
      "Epoch  48 Batch   58/59   train_loss = 0.156\n",
      "Epoch  49 Batch    9/59   train_loss = 0.124\n",
      "Epoch  49 Batch   19/59   train_loss = 0.144\n",
      "Epoch  49 Batch   29/59   train_loss = 0.141\n",
      "Epoch  49 Batch   39/59   train_loss = 0.160\n",
      "Epoch  49 Batch   49/59   train_loss = 0.129\n",
      "Epoch  50 Batch    0/59   train_loss = 0.132\n",
      "Epoch  50 Batch   10/59   train_loss = 0.131\n",
      "Epoch  50 Batch   20/59   train_loss = 0.134\n",
      "Epoch  50 Batch   30/59   train_loss = 0.142\n",
      "Epoch  50 Batch   40/59   train_loss = 0.108\n",
      "Epoch  50 Batch   50/59   train_loss = 0.151\n",
      "Epoch  51 Batch    1/59   train_loss = 0.115\n",
      "Epoch  51 Batch   11/59   train_loss = 0.138\n",
      "Epoch  51 Batch   21/59   train_loss = 0.120\n",
      "Epoch  51 Batch   31/59   train_loss = 0.162\n",
      "Epoch  51 Batch   41/59   train_loss = 0.158\n",
      "Epoch  51 Batch   51/59   train_loss = 0.141\n",
      "Epoch  52 Batch    2/59   train_loss = 0.155\n",
      "Epoch  52 Batch   12/59   train_loss = 0.118\n",
      "Epoch  52 Batch   22/59   train_loss = 0.146\n",
      "Epoch  52 Batch   32/59   train_loss = 0.160\n",
      "Epoch  52 Batch   42/59   train_loss = 0.139\n",
      "Epoch  52 Batch   52/59   train_loss = 0.153\n",
      "Epoch  53 Batch    3/59   train_loss = 0.147\n",
      "Epoch  53 Batch   13/59   train_loss = 0.149\n",
      "Epoch  53 Batch   23/59   train_loss = 0.140\n",
      "Epoch  53 Batch   33/59   train_loss = 0.126\n",
      "Epoch  53 Batch   43/59   train_loss = 0.144\n",
      "Epoch  53 Batch   53/59   train_loss = 0.135\n",
      "Epoch  54 Batch    4/59   train_loss = 0.133\n",
      "Epoch  54 Batch   14/59   train_loss = 0.125\n",
      "Epoch  54 Batch   24/59   train_loss = 0.145\n",
      "Epoch  54 Batch   34/59   train_loss = 0.120\n",
      "Epoch  54 Batch   44/59   train_loss = 0.120\n",
      "Epoch  54 Batch   54/59   train_loss = 0.133\n",
      "Epoch  55 Batch    5/59   train_loss = 0.110\n",
      "Epoch  55 Batch   15/59   train_loss = 0.117\n",
      "Epoch  55 Batch   25/59   train_loss = 0.122\n",
      "Epoch  55 Batch   35/59   train_loss = 0.130\n",
      "Epoch  55 Batch   45/59   train_loss = 0.155\n",
      "Epoch  55 Batch   55/59   train_loss = 0.132\n",
      "Epoch  56 Batch    6/59   train_loss = 0.139\n",
      "Epoch  56 Batch   16/59   train_loss = 0.119\n",
      "Epoch  56 Batch   26/59   train_loss = 0.119\n",
      "Epoch  56 Batch   36/59   train_loss = 0.144\n",
      "Epoch  56 Batch   46/59   train_loss = 0.142\n",
      "Epoch  56 Batch   56/59   train_loss = 0.143\n",
      "Epoch  57 Batch    7/59   train_loss = 0.131\n",
      "Epoch  57 Batch   17/59   train_loss = 0.143\n",
      "Epoch  57 Batch   27/59   train_loss = 0.134\n",
      "Epoch  57 Batch   37/59   train_loss = 0.152\n",
      "Epoch  57 Batch   47/59   train_loss = 0.149\n",
      "Epoch  57 Batch   57/59   train_loss = 0.129\n",
      "Epoch  58 Batch    8/59   train_loss = 0.135\n",
      "Epoch  58 Batch   18/59   train_loss = 0.134\n",
      "Epoch  58 Batch   28/59   train_loss = 0.148\n",
      "Epoch  58 Batch   38/59   train_loss = 0.133\n",
      "Epoch  58 Batch   48/59   train_loss = 0.128\n",
      "Epoch  58 Batch   58/59   train_loss = 0.154\n",
      "Epoch  59 Batch    9/59   train_loss = 0.123\n",
      "Epoch  59 Batch   19/59   train_loss = 0.141\n",
      "Epoch  59 Batch   29/59   train_loss = 0.139\n",
      "Epoch  59 Batch   39/59   train_loss = 0.155\n",
      "Epoch  59 Batch   49/59   train_loss = 0.126\n",
      "Epoch  60 Batch    0/59   train_loss = 0.129\n",
      "Epoch  60 Batch   10/59   train_loss = 0.128\n",
      "Epoch  60 Batch   20/59   train_loss = 0.131\n",
      "Epoch  60 Batch   30/59   train_loss = 0.138\n",
      "Epoch  60 Batch   40/59   train_loss = 0.105\n",
      "Epoch  60 Batch   50/59   train_loss = 0.147\n",
      "Epoch  61 Batch    1/59   train_loss = 0.112\n",
      "Epoch  61 Batch   11/59   train_loss = 0.132\n",
      "Epoch  61 Batch   21/59   train_loss = 0.117\n",
      "Epoch  61 Batch   31/59   train_loss = 0.159\n",
      "Epoch  61 Batch   41/59   train_loss = 0.156\n",
      "Epoch  61 Batch   51/59   train_loss = 0.138\n",
      "Epoch  62 Batch    2/59   train_loss = 0.151\n",
      "Epoch  62 Batch   12/59   train_loss = 0.115\n",
      "Epoch  62 Batch   22/59   train_loss = 0.144\n",
      "Epoch  62 Batch   32/59   train_loss = 0.156\n",
      "Epoch  62 Batch   42/59   train_loss = 0.136\n",
      "Epoch  62 Batch   52/59   train_loss = 0.150\n",
      "Epoch  63 Batch    3/59   train_loss = 0.145\n",
      "Epoch  63 Batch   13/59   train_loss = 0.147\n",
      "Epoch  63 Batch   23/59   train_loss = 0.137\n",
      "Epoch  63 Batch   33/59   train_loss = 0.125\n",
      "Epoch  63 Batch   43/59   train_loss = 0.142\n",
      "Epoch  63 Batch   53/59   train_loss = 0.134\n",
      "Epoch  64 Batch    4/59   train_loss = 0.131\n",
      "Epoch  64 Batch   14/59   train_loss = 0.123\n",
      "Epoch  64 Batch   24/59   train_loss = 0.143\n",
      "Epoch  64 Batch   34/59   train_loss = 0.117\n",
      "Epoch  64 Batch   44/59   train_loss = 0.118\n",
      "Epoch  64 Batch   54/59   train_loss = 0.131\n",
      "Epoch  65 Batch    5/59   train_loss = 0.108\n",
      "Epoch  65 Batch   15/59   train_loss = 0.114\n",
      "Epoch  65 Batch   25/59   train_loss = 0.120\n",
      "Epoch  65 Batch   35/59   train_loss = 0.126\n",
      "Epoch  65 Batch   45/59   train_loss = 0.153\n",
      "Epoch  65 Batch   55/59   train_loss = 0.130\n",
      "Epoch  66 Batch    6/59   train_loss = 0.136\n",
      "Epoch  66 Batch   16/59   train_loss = 0.116\n",
      "Epoch  66 Batch   26/59   train_loss = 0.119\n",
      "Epoch  66 Batch   36/59   train_loss = 0.142\n",
      "Epoch  66 Batch   46/59   train_loss = 0.140\n",
      "Epoch  66 Batch   56/59   train_loss = 0.141\n",
      "Epoch  67 Batch    7/59   train_loss = 0.128\n",
      "Epoch  67 Batch   17/59   train_loss = 0.142\n",
      "Epoch  67 Batch   27/59   train_loss = 0.132\n",
      "Epoch  67 Batch   37/59   train_loss = 0.150\n",
      "Epoch  67 Batch   47/59   train_loss = 0.146\n",
      "Epoch  67 Batch   57/59   train_loss = 0.127\n",
      "Epoch  68 Batch    8/59   train_loss = 0.133\n",
      "Epoch  68 Batch   18/59   train_loss = 0.132\n",
      "Epoch  68 Batch   28/59   train_loss = 0.146\n",
      "Epoch  68 Batch   38/59   train_loss = 0.131\n",
      "Epoch  68 Batch   48/59   train_loss = 0.126\n",
      "Epoch  68 Batch   58/59   train_loss = 0.152\n",
      "Epoch  69 Batch    9/59   train_loss = 0.121\n",
      "Epoch  69 Batch   19/59   train_loss = 0.139\n",
      "Epoch  69 Batch   29/59   train_loss = 0.138\n",
      "Epoch  69 Batch   39/59   train_loss = 0.153\n",
      "Epoch  69 Batch   49/59   train_loss = 0.125\n",
      "Epoch  70 Batch    0/59   train_loss = 0.127\n",
      "Epoch  70 Batch   10/59   train_loss = 0.126\n",
      "Epoch  70 Batch   20/59   train_loss = 0.129\n",
      "Epoch  70 Batch   30/59   train_loss = 0.136\n",
      "Epoch  70 Batch   40/59   train_loss = 0.103\n",
      "Epoch  70 Batch   50/59   train_loss = 0.146\n",
      "Epoch  71 Batch    1/59   train_loss = 0.110\n",
      "Epoch  71 Batch   11/59   train_loss = 0.130\n",
      "Epoch  71 Batch   21/59   train_loss = 0.115\n",
      "Epoch  71 Batch   31/59   train_loss = 0.157\n",
      "Epoch  71 Batch   41/59   train_loss = 0.156\n",
      "Epoch  71 Batch   51/59   train_loss = 0.136\n",
      "Epoch  72 Batch    2/59   train_loss = 0.153\n",
      "Epoch  72 Batch   12/59   train_loss = 0.117\n",
      "Epoch  72 Batch   22/59   train_loss = 0.144\n",
      "Epoch  72 Batch   32/59   train_loss = 0.156\n",
      "Epoch  72 Batch   42/59   train_loss = 0.142\n",
      "Epoch  72 Batch   52/59   train_loss = 0.153\n",
      "Epoch  73 Batch    3/59   train_loss = 0.147\n",
      "Epoch  73 Batch   13/59   train_loss = 0.149\n",
      "Epoch  73 Batch   23/59   train_loss = 0.154\n",
      "Epoch  73 Batch   33/59   train_loss = 0.131\n",
      "Epoch  73 Batch   43/59   train_loss = 0.149\n",
      "Epoch  73 Batch   53/59   train_loss = 0.139\n",
      "Epoch  74 Batch    4/59   train_loss = 0.139\n",
      "Epoch  74 Batch   14/59   train_loss = 0.143\n",
      "Epoch  74 Batch   24/59   train_loss = 0.164\n",
      "Epoch  74 Batch   34/59   train_loss = 0.138\n",
      "Epoch  74 Batch   44/59   train_loss = 0.149\n",
      "Epoch  74 Batch   54/59   train_loss = 0.163\n",
      "Epoch  75 Batch    5/59   train_loss = 0.187\n",
      "Epoch  75 Batch   15/59   train_loss = 0.193\n",
      "Epoch  75 Batch   25/59   train_loss = 0.267\n",
      "Epoch  75 Batch   35/59   train_loss = 0.345\n",
      "Epoch  75 Batch   45/59   train_loss = 0.463\n",
      "Epoch  75 Batch   55/59   train_loss = 0.453\n",
      "Epoch  76 Batch    6/59   train_loss = 0.499\n",
      "Epoch  76 Batch   16/59   train_loss = 0.536\n",
      "Epoch  76 Batch   26/59   train_loss = 0.496\n",
      "Epoch  76 Batch   36/59   train_loss = 0.557\n",
      "Epoch  76 Batch   46/59   train_loss = 0.476\n",
      "Epoch  76 Batch   56/59   train_loss = 0.500\n",
      "Epoch  77 Batch    7/59   train_loss = 0.447\n",
      "Epoch  77 Batch   17/59   train_loss = 0.377\n",
      "Epoch  77 Batch   27/59   train_loss = 0.339\n",
      "Epoch  77 Batch   37/59   train_loss = 0.335\n",
      "Epoch  77 Batch   47/59   train_loss = 0.288\n",
      "Epoch  77 Batch   57/59   train_loss = 0.230\n",
      "Epoch  78 Batch    8/59   train_loss = 0.215\n",
      "Epoch  78 Batch   18/59   train_loss = 0.218\n",
      "Epoch  78 Batch   28/59   train_loss = 0.213\n",
      "Epoch  78 Batch   38/59   train_loss = 0.194\n",
      "Epoch  78 Batch   48/59   train_loss = 0.170\n",
      "Epoch  78 Batch   58/59   train_loss = 0.187\n",
      "Epoch  79 Batch    9/59   train_loss = 0.147\n",
      "Epoch  79 Batch   19/59   train_loss = 0.168\n",
      "Epoch  79 Batch   29/59   train_loss = 0.162\n",
      "Epoch  79 Batch   39/59   train_loss = 0.182\n",
      "Epoch  79 Batch   49/59   train_loss = 0.137\n",
      "Epoch  80 Batch    0/59   train_loss = 0.137\n",
      "Epoch  80 Batch   10/59   train_loss = 0.136\n",
      "Epoch  80 Batch   20/59   train_loss = 0.137\n",
      "Epoch  80 Batch   30/59   train_loss = 0.142\n",
      "Epoch  80 Batch   40/59   train_loss = 0.107\n",
      "Epoch  80 Batch   50/59   train_loss = 0.151\n",
      "Epoch  81 Batch    1/59   train_loss = 0.116\n",
      "Epoch  81 Batch   11/59   train_loss = 0.144\n",
      "Epoch  81 Batch   21/59   train_loss = 0.117\n",
      "Epoch  81 Batch   31/59   train_loss = 0.159\n",
      "Epoch  81 Batch   41/59   train_loss = 0.156\n",
      "Epoch  81 Batch   51/59   train_loss = 0.136\n",
      "Epoch  82 Batch    2/59   train_loss = 0.151\n",
      "Epoch  82 Batch   12/59   train_loss = 0.119\n",
      "Epoch  82 Batch   22/59   train_loss = 0.143\n",
      "Epoch  82 Batch   32/59   train_loss = 0.156\n",
      "Epoch  82 Batch   42/59   train_loss = 0.136\n",
      "Epoch  82 Batch   52/59   train_loss = 0.150\n",
      "Epoch  83 Batch    3/59   train_loss = 0.144\n",
      "Epoch  83 Batch   13/59   train_loss = 0.145\n",
      "Epoch  83 Batch   23/59   train_loss = 0.137\n",
      "Epoch  83 Batch   33/59   train_loss = 0.123\n",
      "Epoch  83 Batch   43/59   train_loss = 0.140\n",
      "Epoch  83 Batch   53/59   train_loss = 0.132\n",
      "Epoch  84 Batch    4/59   train_loss = 0.130\n",
      "Epoch  84 Batch   14/59   train_loss = 0.122\n",
      "Epoch  84 Batch   24/59   train_loss = 0.142\n",
      "Epoch  84 Batch   34/59   train_loss = 0.115\n",
      "Epoch  84 Batch   44/59   train_loss = 0.117\n",
      "Epoch  84 Batch   54/59   train_loss = 0.127\n",
      "Epoch  85 Batch    5/59   train_loss = 0.105\n",
      "Epoch  85 Batch   15/59   train_loss = 0.113\n",
      "Epoch  85 Batch   25/59   train_loss = 0.118\n",
      "Epoch  85 Batch   35/59   train_loss = 0.126\n",
      "Epoch  85 Batch   45/59   train_loss = 0.151\n",
      "Epoch  85 Batch   55/59   train_loss = 0.127\n",
      "Epoch  86 Batch    6/59   train_loss = 0.135\n",
      "Epoch  86 Batch   16/59   train_loss = 0.115\n",
      "Epoch  86 Batch   26/59   train_loss = 0.112\n",
      "Epoch  86 Batch   36/59   train_loss = 0.140\n",
      "Epoch  86 Batch   46/59   train_loss = 0.137\n",
      "Epoch  86 Batch   56/59   train_loss = 0.137\n",
      "Epoch  87 Batch    7/59   train_loss = 0.127\n",
      "Epoch  87 Batch   17/59   train_loss = 0.139\n",
      "Epoch  87 Batch   27/59   train_loss = 0.130\n",
      "Epoch  87 Batch   37/59   train_loss = 0.149\n",
      "Epoch  87 Batch   47/59   train_loss = 0.144\n",
      "Epoch  87 Batch   57/59   train_loss = 0.123\n",
      "Epoch  88 Batch    8/59   train_loss = 0.131\n",
      "Epoch  88 Batch   18/59   train_loss = 0.131\n",
      "Epoch  88 Batch   28/59   train_loss = 0.144\n",
      "Epoch  88 Batch   38/59   train_loss = 0.129\n",
      "Epoch  88 Batch   48/59   train_loss = 0.124\n",
      "Epoch  88 Batch   58/59   train_loss = 0.150\n",
      "Epoch  89 Batch    9/59   train_loss = 0.120\n",
      "Epoch  89 Batch   19/59   train_loss = 0.139\n",
      "Epoch  89 Batch   29/59   train_loss = 0.135\n",
      "Epoch  89 Batch   39/59   train_loss = 0.151\n",
      "Epoch  89 Batch   49/59   train_loss = 0.122\n",
      "Epoch  90 Batch    0/59   train_loss = 0.126\n",
      "Epoch  90 Batch   10/59   train_loss = 0.125\n",
      "Epoch  90 Batch   20/59   train_loss = 0.127\n",
      "Epoch  90 Batch   30/59   train_loss = 0.133\n",
      "Epoch  90 Batch   40/59   train_loss = 0.100\n",
      "Epoch  90 Batch   50/59   train_loss = 0.143\n",
      "Epoch  91 Batch    1/59   train_loss = 0.108\n",
      "Epoch  91 Batch   11/59   train_loss = 0.129\n",
      "Epoch  91 Batch   21/59   train_loss = 0.112\n",
      "Epoch  91 Batch   31/59   train_loss = 0.155\n",
      "Epoch  91 Batch   41/59   train_loss = 0.151\n",
      "Epoch  91 Batch   51/59   train_loss = 0.132\n",
      "Epoch  92 Batch    2/59   train_loss = 0.145\n",
      "Epoch  92 Batch   12/59   train_loss = 0.111\n",
      "Epoch  92 Batch   22/59   train_loss = 0.140\n",
      "Epoch  92 Batch   32/59   train_loss = 0.152\n",
      "Epoch  92 Batch   42/59   train_loss = 0.131\n",
      "Epoch  92 Batch   52/59   train_loss = 0.146\n",
      "Epoch  93 Batch    3/59   train_loss = 0.140\n",
      "Epoch  93 Batch   13/59   train_loss = 0.142\n",
      "Epoch  93 Batch   23/59   train_loss = 0.133\n",
      "Epoch  93 Batch   33/59   train_loss = 0.120\n",
      "Epoch  93 Batch   43/59   train_loss = 0.136\n",
      "Epoch  93 Batch   53/59   train_loss = 0.130\n",
      "Epoch  94 Batch    4/59   train_loss = 0.127\n",
      "Epoch  94 Batch   14/59   train_loss = 0.119\n",
      "Epoch  94 Batch   24/59   train_loss = 0.139\n",
      "Epoch  94 Batch   34/59   train_loss = 0.113\n",
      "Epoch  94 Batch   44/59   train_loss = 0.115\n",
      "Epoch  94 Batch   54/59   train_loss = 0.122\n",
      "Epoch  95 Batch    5/59   train_loss = 0.103\n",
      "Epoch  95 Batch   15/59   train_loss = 0.111\n",
      "Epoch  95 Batch   25/59   train_loss = 0.116\n",
      "Epoch  95 Batch   35/59   train_loss = 0.123\n",
      "Epoch  95 Batch   45/59   train_loss = 0.149\n",
      "Epoch  95 Batch   55/59   train_loss = 0.125\n",
      "Epoch  96 Batch    6/59   train_loss = 0.132\n",
      "Epoch  96 Batch   16/59   train_loss = 0.113\n",
      "Epoch  96 Batch   26/59   train_loss = 0.110\n",
      "Epoch  96 Batch   36/59   train_loss = 0.138\n",
      "Epoch  96 Batch   46/59   train_loss = 0.135\n",
      "Epoch  96 Batch   56/59   train_loss = 0.136\n",
      "Epoch  97 Batch    7/59   train_loss = 0.125\n",
      "Epoch  97 Batch   17/59   train_loss = 0.137\n",
      "Epoch  97 Batch   27/59   train_loss = 0.128\n",
      "Epoch  97 Batch   37/59   train_loss = 0.147\n",
      "Epoch  97 Batch   47/59   train_loss = 0.143\n",
      "Epoch  97 Batch   57/59   train_loss = 0.122\n",
      "Epoch  98 Batch    8/59   train_loss = 0.129\n",
      "Epoch  98 Batch   18/59   train_loss = 0.129\n",
      "Epoch  98 Batch   28/59   train_loss = 0.142\n",
      "Epoch  98 Batch   38/59   train_loss = 0.127\n",
      "Epoch  98 Batch   48/59   train_loss = 0.123\n",
      "Epoch  98 Batch   58/59   train_loss = 0.148\n",
      "Epoch  99 Batch    9/59   train_loss = 0.118\n",
      "Epoch  99 Batch   19/59   train_loss = 0.138\n",
      "Epoch  99 Batch   29/59   train_loss = 0.134\n",
      "Epoch  99 Batch   39/59   train_loss = 0.148\n",
      "Epoch  99 Batch   49/59   train_loss = 0.120\n",
      "Model Trained and Saved\n"
     ]
    }
   ],
   "source": [
    "\"\"\"\n",
    "DON'T MODIFY ANYTHING IN THIS CELL\n",
    "\"\"\"\n",
    "batches = get_batches(int_text, batch_size, seq_length)\n",
    "\n",
    "with tf.Session(graph=train_graph) as sess:\n",
    "    sess.run(tf.global_variables_initializer())\n",
    "\n",
    "    for epoch_i in range(num_epochs):\n",
    "        state = sess.run(initial_state, {input_text: batches[0][0]})\n",
    "\n",
    "        for batch_i, (x, y) in enumerate(batches):\n",
    "            feed = {\n",
    "                input_text: x,\n",
    "                targets: y,\n",
    "                initial_state: state,\n",
    "                lr: learning_rate}\n",
    "            train_loss, state, _ = sess.run([cost, final_state, train_op], feed)\n",
    "\n",
    "            # Show every <show_every_n_batches> batches\n",
    "            if (epoch_i * len(batches) + batch_i) % show_every_n_batches == 0:\n",
    "                print('Epoch {:>3} Batch {:>4}/{}   train_loss = {:.3f}'.format(\n",
    "                    epoch_i,\n",
    "                    batch_i,\n",
    "                    len(batches),\n",
    "                    train_loss))\n",
    "\n",
    "    # Save Model\n",
    "    saver = tf.train.Saver()\n",
    "    saver.save(sess, save_dir)\n",
    "    print('Model Trained and Saved')"
   ]
  },
  {
   "cell_type": "markdown",
   "metadata": {
    "deletable": true,
    "editable": true
   },
   "source": [
    "## Save Parameters\n",
    "Save `seq_length` and `save_dir` for generating a new TV script."
   ]
  },
  {
   "cell_type": "code",
   "execution_count": 113,
   "metadata": {
    "collapsed": false,
    "deletable": true,
    "editable": true
   },
   "outputs": [],
   "source": [
    "\"\"\"\n",
    "DON'T MODIFY ANYTHING IN THIS CELL\n",
    "\"\"\"\n",
    "# Save parameters for checkpoint\n",
    "helper.save_params((seq_length, save_dir))"
   ]
  },
  {
   "cell_type": "markdown",
   "metadata": {
    "deletable": true,
    "editable": true
   },
   "source": [
    "# Checkpoint"
   ]
  },
  {
   "cell_type": "code",
   "execution_count": 114,
   "metadata": {
    "collapsed": false,
    "deletable": true,
    "editable": true
   },
   "outputs": [],
   "source": [
    "\"\"\"\n",
    "DON'T MODIFY ANYTHING IN THIS CELL\n",
    "\"\"\"\n",
    "import tensorflow as tf\n",
    "import numpy as np\n",
    "import helper\n",
    "import problem_unittests as tests\n",
    "\n",
    "_, vocab_to_int, int_to_vocab, token_dict = helper.load_preprocess()\n",
    "seq_length, load_dir = helper.load_params()"
   ]
  },
  {
   "cell_type": "markdown",
   "metadata": {
    "deletable": true,
    "editable": true
   },
   "source": [
    "## Implement Generate Functions\n",
    "### Get Tensors\n",
    "Get tensors from `loaded_graph` using the function [`get_tensor_by_name()`](https://www.tensorflow.org/api_docs/python/tf/Graph#get_tensor_by_name).  Get the tensors using the following names:\n",
    "- \"input:0\"\n",
    "- \"initial_state:0\"\n",
    "- \"final_state:0\"\n",
    "- \"probs:0\"\n",
    "\n",
    "Return the tensors in the following tuple `(InputTensor, InitialStateTensor, FinalStateTensor, ProbsTensor)` "
   ]
  },
  {
   "cell_type": "code",
   "execution_count": 115,
   "metadata": {
    "collapsed": false,
    "deletable": true,
    "editable": true
   },
   "outputs": [
    {
     "name": "stdout",
     "output_type": "stream",
     "text": [
      "Tests Passed\n"
     ]
    }
   ],
   "source": [
    "def get_tensors(loaded_graph):\n",
    "    \"\"\"\n",
    "    Get input, initial state, final state, and probabilities tensor from <loaded_graph>\n",
    "    :param loaded_graph: TensorFlow graph loaded from file\n",
    "    :return: Tuple (InputTensor, InitialStateTensor, FinalStateTensor, ProbsTensor)\n",
    "    \"\"\"\n",
    "    # TODO: Implement Function\n",
    "    InputTensor = loaded_graph.get_tensor_by_name(\"input:0\")\n",
    "    InitialStateTensor = loaded_graph.get_tensor_by_name(\"initial_state:0\")\n",
    "    FinalStateTensor = loaded_graph.get_tensor_by_name(\"final_state:0\")\n",
    "    ProbsTensor = loaded_graph.get_tensor_by_name(\"probs:0\")\n",
    "    return (InputTensor, InitialStateTensor, FinalStateTensor, ProbsTensor)\n",
    "\n",
    "\n",
    "\"\"\"\n",
    "DON'T MODIFY ANYTHING IN THIS CELL THAT IS BELOW THIS LINE\n",
    "\"\"\"\n",
    "tests.test_get_tensors(get_tensors)"
   ]
  },
  {
   "cell_type": "markdown",
   "metadata": {
    "deletable": true,
    "editable": true
   },
   "source": [
    "### Choose Word\n",
    "Implement the `pick_word()` function to select the next word using `probabilities`."
   ]
  },
  {
   "cell_type": "code",
   "execution_count": 116,
   "metadata": {
    "collapsed": false,
    "deletable": true,
    "editable": true
   },
   "outputs": [
    {
     "name": "stdout",
     "output_type": "stream",
     "text": [
      "Tests Passed\n"
     ]
    }
   ],
   "source": [
    "def pick_word(probabilities, int_to_vocab):\n",
    "    \"\"\"\n",
    "    Pick the next word in the generated text\n",
    "    :param probabilities: Probabilites of the next word\n",
    "    :param int_to_vocab: Dictionary of word ids as the keys and words as the values\n",
    "    :return: String of the predicted word\n",
    "    \"\"\"\n",
    "    # TODO: Implement Function\n",
    "    index = np.random.choice(len(probabilities), p = probabilities) \n",
    "    word = int_to_vocab[index]\n",
    "    return word\n",
    "\n",
    "\n",
    "\"\"\"\n",
    "DON'T MODIFY ANYTHING IN THIS CELL THAT IS BELOW THIS LINE\n",
    "\"\"\"\n",
    "tests.test_pick_word(pick_word)"
   ]
  },
  {
   "cell_type": "markdown",
   "metadata": {
    "deletable": true,
    "editable": true
   },
   "source": [
    "## Generate TV Script\n",
    "This will generate the TV script for you.  Set `gen_length` to the length of TV script you want to generate."
   ]
  },
  {
   "cell_type": "code",
   "execution_count": 117,
   "metadata": {
    "collapsed": false,
    "deletable": true,
    "editable": true
   },
   "outputs": [
    {
     "name": "stdout",
     "output_type": "stream",
     "text": [
      "moe_szyslak: wait a minute. i know that voice.\n",
      "moe_szyslak: if it isn't little bart simpson! i haven't seen you in years since my kids.\n",
      "barney_gumble: i know, it works.\n",
      "moe_szyslak:(impressed) my first credit card!(feeling card, amazed) hey, i haven't seen the place this crowded since the government cracked down on you for accepting food stamps.\n",
      "homer_simpson:(groans) feels weird.\n",
      "carl_carlson: just ask your heart, huh?\n",
      "moe_szyslak: uh, yeah.(pained noise) no one of our girl will should have some big ya.\n",
      "homer_simpson:(out of breath, desperate) moe, moe, you gotta not open for while.\n",
      "moe_szyslak:(gets still) marge...\n",
      "moe_szyslak:(sighs) fine.\n",
      "moe_szyslak: i didn't rip out his sign.\n",
      "moe_szyslak:(upbeat) i was looking! but a whole week, huh?\n",
      "homer_simpson:(to thought bubble) who wants to eat a loser?\n",
      "lisa_simpson: dad, i moved for?\n",
      "rev. _hooper:\n"
     ]
    }
   ],
   "source": [
    "gen_length = 200\n",
    "# homer_simpson, moe_szyslak, or Barney_Gumble\n",
    "prime_word = 'moe_szyslak'\n",
    "\n",
    "\"\"\"\n",
    "DON'T MODIFY ANYTHING IN THIS CELL THAT IS BELOW THIS LINE\n",
    "\"\"\"\n",
    "loaded_graph = tf.Graph()\n",
    "with tf.Session(graph=loaded_graph) as sess:\n",
    "    # Load saved model\n",
    "    loader = tf.train.import_meta_graph(load_dir + '.meta')\n",
    "    loader.restore(sess, load_dir)\n",
    "\n",
    "    # Get Tensors from loaded model\n",
    "    input_text, initial_state, final_state, probs = get_tensors(loaded_graph)\n",
    "\n",
    "    # Sentences generation setup\n",
    "    gen_sentences = [prime_word + ':']\n",
    "    prev_state = sess.run(initial_state, {input_text: np.array([[1]])})\n",
    "\n",
    "    # Generate sentences\n",
    "    for n in range(gen_length):\n",
    "        # Dynamic Input\n",
    "        dyn_input = [[vocab_to_int[word] for word in gen_sentences[-seq_length:]]]\n",
    "        dyn_seq_length = len(dyn_input[0])\n",
    "\n",
    "        # Get Prediction\n",
    "        probabilities, prev_state = sess.run(\n",
    "            [probs, final_state],\n",
    "            {input_text: dyn_input, initial_state: prev_state})\n",
    "        \n",
    "        pred_word = pick_word(probabilities[dyn_seq_length-1], int_to_vocab)\n",
    "\n",
    "        gen_sentences.append(pred_word)\n",
    "    \n",
    "    # Remove tokens\n",
    "    tv_script = ' '.join(gen_sentences)\n",
    "    for key, token in token_dict.items():\n",
    "        ending = ' ' if key in ['\\n', '(', '\"'] else ''\n",
    "        tv_script = tv_script.replace(' ' + token.lower(), key)\n",
    "    tv_script = tv_script.replace('\\n ', '\\n')\n",
    "    tv_script = tv_script.replace('( ', '(')\n",
    "        \n",
    "    print(tv_script)"
   ]
  },
  {
   "cell_type": "markdown",
   "metadata": {
    "deletable": true,
    "editable": true
   },
   "source": [
    "# The TV Script is Nonsensical\n",
    "It's ok if the TV script doesn't make any sense.  We trained on less than a megabyte of text.  In order to get good results, you'll have to use a smaller vocabulary or get more data.  Luckly there's more data!  As we mentioned in the begging of this project, this is a subset of [another dataset](https://www.kaggle.com/wcukierski/the-simpsons-by-the-data).  We didn't have you train on all the data, because that would take too long.  However, you are free to train your neural network on all the data.  After you complete the project, of course.\n",
    "# Submitting This Project\n",
    "When submitting this project, make sure to run all the cells before saving the notebook. Save the notebook file as \"dlnd_tv_script_generation.ipynb\" and save it as a HTML file under \"File\" -> \"Download as\". Include the \"helper.py\" and \"problem_unittests.py\" files in your submission."
   ]
  }
 ],
 "metadata": {
  "anaconda-cloud": {},
  "kernelspec": {
   "display_name": "Python 3",
   "language": "python",
   "name": "python3"
  },
  "language_info": {
   "codemirror_mode": {
    "name": "ipython",
    "version": 3
   },
   "file_extension": ".py",
   "mimetype": "text/x-python",
   "name": "python",
   "nbconvert_exporter": "python",
   "pygments_lexer": "ipython3",
   "version": "3.5.3"
  }
 },
 "nbformat": 4,
 "nbformat_minor": 0
}
